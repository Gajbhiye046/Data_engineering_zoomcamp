{
 "cells": [
  {
   "cell_type": "code",
   "execution_count": 24,
   "id": "154795b2",
   "metadata": {},
   "outputs": [],
   "source": [
    "!pip install pyarrow\n",
    "\n",
    "import pandas as pd\n",
    "color = \"fhv\"\n",
    "month = 2\n",
    "year = 2019\n",
    "dataset_file = f\"{color}_tripdata_{year}-{month:02}\"\n",
    "dataset_url = f\"https://github.com/DataTalksClub/nyc-tlc-data/releases/download/{color}/{dataset_file}.csv.gz\"\n",
    "df = pd.read_csv(dataset_url)"
   ]
  },
  {
   "cell_type": "code",
   "execution_count": null,
   "id": "7be35653",
   "metadata": {},
   "outputs": [],
   "source": [
    "df[\"pickup_datetime\"] = pd.to_datetime(df[\"pickup_datetime\"])\n",
    "df[\"dropOff_datetime\"] = pd.to_datetime(df[\"dropOff_datetime\"])\n",
    "df = df.convert_dtypes()"
   ]
  },
  {
   "cell_type": "code",
   "execution_count": 18,
   "id": "7b424a3b",
   "metadata": {},
   "outputs": [
    {
     "name": "stdout",
     "output_type": "stream",
     "text": [
      "<class 'pandas.core.frame.DataFrame'>\n",
      "RangeIndex: 1707649 entries, 0 to 1707648\n",
      "Data columns (total 7 columns):\n",
      " #   Column                  Dtype         \n",
      "---  ------                  -----         \n",
      " 0   dispatching_base_num    string        \n",
      " 1   pickup_datetime         datetime64[ns]\n",
      " 2   dropOff_datetime        datetime64[ns]\n",
      " 3   PUlocationID            Int64         \n",
      " 4   DOlocationID            Int64         \n",
      " 5   SR_Flag                 Int64         \n",
      " 6   Affiliated_base_number  string        \n",
      "dtypes: Int64(3), datetime64[ns](2), string(2)\n",
      "memory usage: 96.1 MB\n"
     ]
    }
   ],
   "source": [
    "df.info()"
   ]
  },
  {
   "cell_type": "code",
   "execution_count": 19,
   "id": "c3f904e7",
   "metadata": {},
   "outputs": [
    {
     "data": {
      "text/plain": [
       "Index(['dispatching_base_num', 'pickup_datetime', 'dropOff_datetime',\n",
       "       'PUlocationID', 'DOlocationID', 'SR_Flag', 'Affiliated_base_number'],\n",
       "      dtype='object')"
      ]
     },
     "execution_count": 19,
     "metadata": {},
     "output_type": "execute_result"
    }
   ],
   "source": [
    "df.columns"
   ]
  },
  {
   "cell_type": "code",
   "execution_count": 20,
   "id": "83c065f2",
   "metadata": {},
   "outputs": [
    {
     "data": {
      "text/plain": [
       "dispatching_base_num            0\n",
       "pickup_datetime                 0\n",
       "dropOff_datetime                0\n",
       "PUlocationID                    1\n",
       "DOlocationID                    1\n",
       "SR_Flag                   1707643\n",
       "Affiliated_base_number       7107\n",
       "dtype: int64"
      ]
     },
     "execution_count": 20,
     "metadata": {},
     "output_type": "execute_result"
    }
   ],
   "source": [
    "df[df.columns].isna().sum()"
   ]
  },
  {
   "cell_type": "code",
   "execution_count": 21,
   "id": "168eb2aa",
   "metadata": {},
   "outputs": [
    {
     "data": {
      "text/plain": [
       "1707649"
      ]
     },
     "execution_count": 21,
     "metadata": {},
     "output_type": "execute_result"
    }
   ],
   "source": [
    "len(df)"
   ]
  },
  {
   "cell_type": "code",
   "execution_count": 22,
   "id": "b156ef84",
   "metadata": {},
   "outputs": [
    {
     "data": {
      "text/html": [
       "<div>\n",
       "<style scoped>\n",
       "    .dataframe tbody tr th:only-of-type {\n",
       "        vertical-align: middle;\n",
       "    }\n",
       "\n",
       "    .dataframe tbody tr th {\n",
       "        vertical-align: top;\n",
       "    }\n",
       "\n",
       "    .dataframe thead th {\n",
       "        text-align: right;\n",
       "    }\n",
       "</style>\n",
       "<table border=\"1\" class=\"dataframe\">\n",
       "  <thead>\n",
       "    <tr style=\"text-align: right;\">\n",
       "      <th></th>\n",
       "      <th>dispatching_base_num</th>\n",
       "      <th>pickup_datetime</th>\n",
       "      <th>dropOff_datetime</th>\n",
       "      <th>PUlocationID</th>\n",
       "      <th>DOlocationID</th>\n",
       "      <th>SR_Flag</th>\n",
       "      <th>Affiliated_base_number</th>\n",
       "    </tr>\n",
       "  </thead>\n",
       "  <tbody>\n",
       "    <tr>\n",
       "      <th>0</th>\n",
       "      <td>B00037</td>\n",
       "      <td>2019-02-01 00:08:44</td>\n",
       "      <td>2019-02-01 00:23:35</td>\n",
       "      <td>264</td>\n",
       "      <td>265</td>\n",
       "      <td>&lt;NA&gt;</td>\n",
       "      <td>B00037</td>\n",
       "    </tr>\n",
       "    <tr>\n",
       "      <th>1</th>\n",
       "      <td>B00037</td>\n",
       "      <td>2019-02-01 00:27:51</td>\n",
       "      <td>2019-02-01 00:32:54</td>\n",
       "      <td>264</td>\n",
       "      <td>265</td>\n",
       "      <td>&lt;NA&gt;</td>\n",
       "      <td>B00037</td>\n",
       "    </tr>\n",
       "    <tr>\n",
       "      <th>2</th>\n",
       "      <td>B00037</td>\n",
       "      <td>2019-02-01 00:18:30</td>\n",
       "      <td>2019-02-01 00:25:45</td>\n",
       "      <td>264</td>\n",
       "      <td>265</td>\n",
       "      <td>&lt;NA&gt;</td>\n",
       "      <td>B00037</td>\n",
       "    </tr>\n",
       "    <tr>\n",
       "      <th>3</th>\n",
       "      <td>B00037</td>\n",
       "      <td>2019-02-01 00:43:15</td>\n",
       "      <td>2019-02-01 00:48:29</td>\n",
       "      <td>264</td>\n",
       "      <td>265</td>\n",
       "      <td>&lt;NA&gt;</td>\n",
       "      <td>B00037</td>\n",
       "    </tr>\n",
       "    <tr>\n",
       "      <th>4</th>\n",
       "      <td>B00037</td>\n",
       "      <td>2019-02-01 00:01:45</td>\n",
       "      <td>2019-02-01 00:09:13</td>\n",
       "      <td>264</td>\n",
       "      <td>265</td>\n",
       "      <td>&lt;NA&gt;</td>\n",
       "      <td>B00037</td>\n",
       "    </tr>\n",
       "  </tbody>\n",
       "</table>\n",
       "</div>"
      ],
      "text/plain": [
       "  dispatching_base_num     pickup_datetime    dropOff_datetime  PUlocationID  \\\n",
       "0               B00037 2019-02-01 00:08:44 2019-02-01 00:23:35           264   \n",
       "1               B00037 2019-02-01 00:27:51 2019-02-01 00:32:54           264   \n",
       "2               B00037 2019-02-01 00:18:30 2019-02-01 00:25:45           264   \n",
       "3               B00037 2019-02-01 00:43:15 2019-02-01 00:48:29           264   \n",
       "4               B00037 2019-02-01 00:01:45 2019-02-01 00:09:13           264   \n",
       "\n",
       "   DOlocationID  SR_Flag Affiliated_base_number  \n",
       "0           265     <NA>                 B00037  \n",
       "1           265     <NA>                 B00037  \n",
       "2           265     <NA>                 B00037  \n",
       "3           265     <NA>                 B00037  \n",
       "4           265     <NA>                 B00037  "
      ]
     },
     "execution_count": 22,
     "metadata": {},
     "output_type": "execute_result"
    }
   ],
   "source": [
    "df.head(5)"
   ]
  },
  {
   "cell_type": "code",
   "execution_count": 3,
   "id": "dd64b581",
   "metadata": {},
   "outputs": [
    {
     "data": {
      "text/plain": [
       "'C:\\\\Users\\\\Lenovo\\\\Kaggle competition\\\\bin'"
      ]
     },
     "execution_count": 3,
     "metadata": {},
     "output_type": "execute_result"
    }
   ],
   "source": [
    "import os\n",
    "os.getcwd()"
   ]
  },
  {
   "cell_type": "code",
   "execution_count": 10,
   "id": "10943698",
   "metadata": {},
   "outputs": [
    {
     "name": "stdout",
     "output_type": "stream",
     "text": [
      "C:\\Users\\Lenovo\n"
     ]
    }
   ],
   "source": [
    "cd"
   ]
  },
  {
   "cell_type": "code",
   "execution_count": null,
   "id": "2ba31177",
   "metadata": {},
   "outputs": [],
   "source": [
    "from pathlib import Path\n",
    "path = Path(os.getcwd()+f\"/data_engineering_zoomcamp/data/{color}/{dataset_file}.csv.gz\").as_posix()\n",
    "df.to_csv(path, compression=\"gzip\")"
   ]
  },
  {
   "cell_type": "code",
   "execution_count": 19,
   "id": "ad1e79f9",
   "metadata": {},
   "outputs": [
    {
     "name": "stderr",
     "output_type": "stream",
     "text": [
      "100%|███████████████████████████████████████████████████████████████████████████████████| 1/1 [07:33<00:00, 453.50s/it]\n"
     ]
    }
   ],
   "source": [
    "#!pip install pyarrow\n",
    "import pandas as pd\n",
    "from pathlib import Path\n",
    "from tqdm import tqdm\n",
    "import os\n",
    "\n",
    "color = \"fhv\"\n",
    "months = [1]\n",
    "year = 2019\n",
    "for month in tqdm(months) :\n",
    "    dataset_file = f\"{color}_tripdata_{year}-{month:02}\"\n",
    "    dataset_url = f\"https://github.com/DataTalksClub/nyc-tlc-data/releases/download/{color}/{dataset_file}.csv.gz\"\n",
    "    df = pd.read_csv(dataset_url,encoding_errors= 'replace')\n",
    "  \n",
    "    df[\"pickup_datetime\"] = pd.to_datetime(df[\"pickup_datetime\"])\n",
    "    ## 2019\n",
    "    df[\"dropOff_datetime\"] = pd.to_datetime(df[\"dropOff_datetime\"])\n",
    "    df.rename(columns = {\"dropOff_datetime\":\"dropoff_datetime\"}, inplace = True)\n",
    "    ## 2020 \n",
    "    #df[\"dropoff_datetime\"] = pd.to_datetime(df[\"dropoff_datetime\"])\n",
    "    \n",
    "    df = df.convert_dtypes()\n",
    "\n",
    "    from pathlib import Path\n",
    "    path = Path(f\"C:/Users/Lenovo/data_engineering_zoomcamp/data/{color}/{dataset_file}.csv.gz\").as_posix()\n",
    "    df.to_csv(path, compression=\"gzip\",index = False)"
   ]
  },
  {
   "cell_type": "code",
   "execution_count": null,
   "id": "5f7637e2",
   "metadata": {},
   "outputs": [],
   "source": [
    "from tqdm import tqdm\n",
    "for month in tqdm(months) :\n",
    "    print(month)"
   ]
  },
  {
   "cell_type": "markdown",
   "id": "aa0317b9",
   "metadata": {},
   "source": [
    "# 2020, fhv :"
   ]
  },
  {
   "cell_type": "code",
   "execution_count": 10,
   "id": "53dd16b6",
   "metadata": {},
   "outputs": [],
   "source": [
    "import pandas as pd\n",
    "color = \"fhv\"\n",
    "month = 2\n",
    "year = 2020\n",
    "dataset_file = f\"{color}_tripdata_{year}-{month:02}\"\n",
    "dataset_url = f\"https://github.com/DataTalksClub/nyc-tlc-data/releases/download/{color}/{dataset_file}.csv.gz\"\n",
    "df = pd.read_csv(dataset_url,encoding_errors= 'replace')"
   ]
  },
  {
   "cell_type": "code",
   "execution_count": 11,
   "id": "f756eeac",
   "metadata": {},
   "outputs": [
    {
     "name": "stdout",
     "output_type": "stream",
     "text": [
      "<class 'pandas.core.frame.DataFrame'>\n",
      "RangeIndex: 1910157 entries, 0 to 1910156\n",
      "Data columns (total 7 columns):\n",
      " #   Column                  Dtype  \n",
      "---  ------                  -----  \n",
      " 0   dispatching_base_num    object \n",
      " 1   pickup_datetime         object \n",
      " 2   dropoff_datetime        object \n",
      " 3   PULocationID            float64\n",
      " 4   DOLocationID            float64\n",
      " 5   SR_Flag                 float64\n",
      " 6   Affiliated_base_number  object \n",
      "dtypes: float64(3), object(4)\n",
      "memory usage: 102.0+ MB\n"
     ]
    }
   ],
   "source": [
    "df.info()"
   ]
  },
  {
   "cell_type": "code",
   "execution_count": null,
   "id": "bd421251",
   "metadata": {},
   "outputs": [],
   "source": []
  }
 ],
 "metadata": {
  "kernelspec": {
   "display_name": "Python 3 (ipykernel)",
   "language": "python",
   "name": "python3"
  },
  "language_info": {
   "codemirror_mode": {
    "name": "ipython",
    "version": 3
   },
   "file_extension": ".py",
   "mimetype": "text/x-python",
   "name": "python",
   "nbconvert_exporter": "python",
   "pygments_lexer": "ipython3",
   "version": "3.9.12"
  }
 },
 "nbformat": 4,
 "nbformat_minor": 5
}
